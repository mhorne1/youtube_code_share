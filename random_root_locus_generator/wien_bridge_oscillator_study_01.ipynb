{
 "cells": [
  {
   "cell_type": "code",
   "execution_count": 1,
   "metadata": {},
   "outputs": [],
   "source": [
    "%matplotlib inline\n",
    "#%matplotlib\n",
    "import matplotlib.pyplot as plt\n",
    "import numpy as np\n",
    "import sympy as sym\n",
    "sym.init_printing()\n",
    "import control"
   ]
  },
  {
   "cell_type": "markdown",
   "metadata": {},
   "source": [
    "Reference:\n",
    "https://www.electronics-tutorials.ws/oscillator/wien_bridge.html"
   ]
  },
  {
   "cell_type": "code",
   "execution_count": 2,
   "metadata": {},
   "outputs": [],
   "source": [
    "s = sym.Symbol('s')\n",
    "C_1 = sym.Symbol('C1', real=True)\n",
    "C_2 = sym.Symbol('C2', real=True)\n",
    "C_ = sym.Symbol('C')\n",
    "R_1 = sym.Symbol('R1', real=True)\n",
    "R_2 = sym.Symbol('R2', real=True)\n",
    "R_ = sym.Symbol('R')\n",
    "R_f = sym.Symbol('Rf')#, real=True)\n",
    "R_b = sym.Symbol('Rb', real=True)\n",
    "w_ = sym.Symbol('w', real=True)\n",
    "H_s = sym.Symbol('H(s)')"
   ]
  },
  {
   "cell_type": "code",
   "execution_count": 3,
   "metadata": {},
   "outputs": [
    {
     "data": {
      "image/png": "[encoded data removed]",
      "text/latex": [
       "$$R_{1} + \\frac{1}{C_{1} s}$$"
      ],
      "text/plain": [
       "      1  \n",
       "R₁ + ────\n",
       "     C₁⋅s"
      ]
     },
     "execution_count": 3,
     "metadata": {},
     "output_type": "execute_result"
    }
   ],
   "source": [
    "Zser = R_1+1/(s*C_1)\n",
    "Zser"
   ]
  },
  {
   "cell_type": "code",
   "execution_count": 4,
   "metadata": {},
   "outputs": [
    {
     "data": {
      "image/png": "[encoded data removed]",
      "text/latex": [
       "$$\\frac{1}{C_{2} s + \\frac{1}{R_{2}}}$$"
      ],
      "text/plain": [
       "    1    \n",
       "─────────\n",
       "       1 \n",
       "C₂⋅s + ──\n",
       "       R₂"
      ]
     },
     "execution_count": 4,
     "metadata": {},
     "output_type": "execute_result"
    }
   ],
   "source": [
    "Zpar = 1/((1/R_2)+(1/(1/(C_2*s))))\n",
    "Zpar"
   ]
  },
  {
   "cell_type": "code",
   "execution_count": 5,
   "metadata": {},
   "outputs": [
    {
     "data": {
      "image/png": "[encoded data removed]",
      "text/latex": [
       "$$\\frac{R_{2}}{C_{2} R_{2} s + 1}$$"
      ],
      "text/plain": [
       "     R₂    \n",
       "───────────\n",
       "C₂⋅R₂⋅s + 1"
      ]
     },
     "execution_count": 5,
     "metadata": {},
     "output_type": "execute_result"
    }
   ],
   "source": [
    "sym.simplify(Zpar)"
   ]
  },
  {
   "cell_type": "markdown",
   "metadata": {},
   "source": [
    "### Bridge Network Calculation"
   ]
  },
  {
   "cell_type": "code",
   "execution_count": 6,
   "metadata": {},
   "outputs": [
    {
     "data": {
      "image/png": "[encoded data removed]",
      "text/latex": [
       "$$\\left(R_{1} + \\frac{1}{C_{1} s}\\right) \\left(C_{2} s + \\frac{1}{R_{2}}\\right) = \\frac{Rf}{Rb}$$"
      ],
      "text/plain": [
       "⎛      1  ⎞ ⎛       1 ⎞   Rf\n",
       "⎜R₁ + ────⎟⋅⎜C₂⋅s + ──⎟ = ──\n",
       "⎝     C₁⋅s⎠ ⎝       R₂⎠   Rb"
      ]
     },
     "execution_count": 6,
     "metadata": {},
     "output_type": "execute_result"
    }
   ],
   "source": [
    "sym.Eq(Zser/Zpar,R_f/R_b)"
   ]
  },
  {
   "cell_type": "code",
   "execution_count": 7,
   "metadata": {},
   "outputs": [
    {
     "data": {
      "image/png": "[encoded data removed]",
      "text/latex": [
       "$$Rb \\left(R_{1} + \\frac{1}{C_{1} s}\\right) = \\frac{Rf}{C_{2} s + \\frac{1}{R_{2}}}$$"
      ],
      "text/plain": [
       "   ⎛      1  ⎞       Rf   \n",
       "Rb⋅⎜R₁ + ────⎟ = ─────────\n",
       "   ⎝     C₁⋅s⎠          1 \n",
       "                 C₂⋅s + ──\n",
       "                        R₂"
      ]
     },
     "execution_count": 7,
     "metadata": {},
     "output_type": "execute_result"
    }
   ],
   "source": [
    "equ0 = sym.Eq(Zser*R_b,Zpar*R_f)\n",
    "equ0"
   ]
  },
  {
   "cell_type": "code",
   "execution_count": 8,
   "metadata": {},
   "outputs": [
    {
     "data": {
      "image/png": "[encoded data removed]",
      "text/latex": [
       "$$Rb \\left(R_{1} + \\frac{1}{C_{1} s}\\right) - \\frac{Rf}{C_{2} s + \\frac{1}{R_{2}}}$$"
      ],
      "text/plain": [
       "   ⎛      1  ⎞       Rf   \n",
       "Rb⋅⎜R₁ + ────⎟ - ─────────\n",
       "   ⎝     C₁⋅s⎠          1 \n",
       "                 C₂⋅s + ──\n",
       "                        R₂"
      ]
     },
     "execution_count": 8,
     "metadata": {},
     "output_type": "execute_result"
    }
   ],
   "source": [
    "expr0 = (Zser*R_b)-(Zpar*R_f)\n",
    "expr0"
   ]
  },
  {
   "cell_type": "code",
   "execution_count": 9,
   "metadata": {},
   "outputs": [
    {
     "data": {
      "image/png": "[encoded data removed]",
      "text/latex": [
       "$$Rb \\left(R_{1} - \\frac{1.0 i}{C_{1} w}\\right) - \\frac{Rf}{1.0 i C_{2} w + \\frac{1}{R_{2}}}$$"
      ],
      "text/plain": [
       "   ⎛     1.0⋅ⅈ⎞          Rf      \n",
       "Rb⋅⎜R₁ - ─────⎟ - ───────────────\n",
       "   ⎝      C₁⋅w⎠                1 \n",
       "                  1.0⋅ⅈ⋅C₂⋅w + ──\n",
       "                               R₂"
      ]
     },
     "execution_count": 9,
     "metadata": {},
     "output_type": "execute_result"
    }
   ],
   "source": [
    "expr1 = expr0.subs(s,1.0j*w_)\n",
    "expr1"
   ]
  },
  {
   "cell_type": "code",
   "execution_count": 10,
   "metadata": {},
   "outputs": [
    {
     "data": {
      "image/png": "[encoded data removed]",
      "text/latex": [
       "$$Rb \\left(R_{1} - \\frac{i}{C_{1} w}\\right) - \\frac{Rf}{i C_{2} w + \\frac{1}{R_{2}}}$$"
      ],
      "text/plain": [
       "   ⎛      ⅈ  ⎞        Rf    \n",
       "Rb⋅⎜R₁ - ────⎟ - ───────────\n",
       "   ⎝     C₁⋅w⎠            1 \n",
       "                 ⅈ⋅C₂⋅w + ──\n",
       "                          R₂"
      ]
     },
     "execution_count": 10,
     "metadata": {},
     "output_type": "execute_result"
    }
   ],
   "source": [
    "expr2 = expr0.subs(s,sym.I*w_)\n",
    "expr2"
   ]
  },
  {
   "cell_type": "code",
   "execution_count": 11,
   "metadata": {},
   "outputs": [
    {
     "data": {
      "image/png": "[encoded data removed]",
      "text/latex": [
       "$$\\left [ i C_{2} R_{1} Rb w + \\frac{R_{1} Rb}{R_{2}} + \\frac{C_{2} Rb}{C_{1}} - \\frac{i Rb}{C_{1} R_{2} w}\\right ]$$"
      ],
      "text/plain": [
       "⎡               R₁⋅Rb   C₂⋅Rb     ⅈ⋅Rb ⎤\n",
       "⎢ⅈ⋅C₂⋅R₁⋅Rb⋅w + ───── + ───── - ───────⎥\n",
       "⎣                 R₂      C₁    C₁⋅R₂⋅w⎦"
      ]
     },
     "execution_count": 11,
     "metadata": {},
     "output_type": "execute_result"
    }
   ],
   "source": [
    "sym.solve(expr1,R_f)"
   ]
  },
  {
   "cell_type": "code",
   "execution_count": 12,
   "metadata": {},
   "outputs": [
    {
     "data": {
      "image/png": "[encoded data removed]",
      "text/latex": [
       "$$Rb \\left(R_{1} - \\frac{i}{C_{1} w}\\right) = \\frac{Rf}{i C_{2} w + \\frac{1}{R_{2}}}$$"
      ],
      "text/plain": [
       "   ⎛      ⅈ  ⎞        Rf    \n",
       "Rb⋅⎜R₁ - ────⎟ = ───────────\n",
       "   ⎝     C₁⋅w⎠            1 \n",
       "                 ⅈ⋅C₂⋅w + ──\n",
       "                          R₂"
      ]
     },
     "execution_count": 12,
     "metadata": {},
     "output_type": "execute_result"
    }
   ],
   "source": [
    "equ1 = equ0.subs(s,sym.I*w_)\n",
    "equ1"
   ]
  },
  {
   "cell_type": "code",
   "execution_count": 13,
   "metadata": {},
   "outputs": [
    {
     "data": {
      "image/png": "[encoded data removed]",
      "text/latex": [
       "$$\\frac{R_{2} Rf}{i C_{2} R_{2} w + 1} = R_{1} Rb - \\frac{i Rb}{C_{1} w}$$"
      ],
      "text/plain": [
       "    R₂⋅Rf               ⅈ⋅Rb\n",
       "───────────── = R₁⋅Rb - ────\n",
       "ⅈ⋅C₂⋅R₂⋅w + 1           C₁⋅w"
      ]
     },
     "execution_count": 13,
     "metadata": {},
     "output_type": "execute_result"
    }
   ],
   "source": [
    "equ2 = sym.simplify(equ1)\n",
    "equ2"
   ]
  },
  {
   "cell_type": "code",
   "execution_count": 14,
   "metadata": {},
   "outputs": [
    {
     "data": {
      "image/png": "[encoded data removed]",
      "text/latex": [
       "$$\\left [ i C_{2} R_{1} Rb w + \\frac{R_{1} Rb}{R_{2}} + \\frac{C_{2} Rb}{C_{1}} - \\frac{i Rb}{C_{1} R_{2} w}\\right ]$$"
      ],
      "text/plain": [
       "⎡               R₁⋅Rb   C₂⋅Rb     ⅈ⋅Rb ⎤\n",
       "⎢ⅈ⋅C₂⋅R₁⋅Rb⋅w + ───── + ───── - ───────⎥\n",
       "⎣                 R₂      C₁    C₁⋅R₂⋅w⎦"
      ]
     },
     "execution_count": 14,
     "metadata": {},
     "output_type": "execute_result"
    }
   ],
   "source": [
    "sym.solve(expr2,R_f)"
   ]
  },
  {
   "cell_type": "code",
   "execution_count": 15,
   "metadata": {},
   "outputs": [
    {
     "data": {
      "image/png": "[encoded data removed]",
      "text/latex": [
       "$$i C_{2} R_{1} Rb w + \\frac{R_{1} Rb}{R_{2}} + \\frac{C_{2} Rb}{C_{1}} - \\frac{i Rb}{C_{1} R_{2} w} = Rf$$"
      ],
      "text/plain": [
       "               R₁⋅Rb   C₂⋅Rb     ⅈ⋅Rb      \n",
       "ⅈ⋅C₂⋅R₁⋅Rb⋅w + ───── + ───── - ─────── = Rf\n",
       "                 R₂      C₁    C₁⋅R₂⋅w     "
      ]
     },
     "execution_count": 15,
     "metadata": {},
     "output_type": "execute_result"
    }
   ],
   "source": [
    "equ3 = sym.Eq(sym.solve(expr2,R_f)[0],R_f)\n",
    "equ3"
   ]
  },
  {
   "cell_type": "code",
   "execution_count": 16,
   "metadata": {},
   "outputs": [
    {
     "data": {
      "image/png": "[encoded data removed]",
      "text/latex": [
       "$$\\Re{\\left(i C_{2} R_{1} Rb w + \\frac{R_{1} Rb}{R_{2}} + \\frac{C_{2} Rb}{C_{1}} - \\frac{i Rb}{C_{1} R_{2} w} = Rf\\right)}$$"
      ],
      "text/plain": [
       "  ⎛               R₁⋅Rb   C₂⋅Rb     ⅈ⋅Rb      ⎞\n",
       "re⎜ⅈ⋅C₂⋅R₁⋅Rb⋅w + ───── + ───── - ─────── = Rf⎟\n",
       "  ⎝                 R₂      C₁    C₁⋅R₂⋅w     ⎠"
      ]
     },
     "execution_count": 16,
     "metadata": {},
     "output_type": "execute_result"
    }
   ],
   "source": [
    "sym.re(equ3)"
   ]
  },
  {
   "cell_type": "code",
   "execution_count": 17,
   "metadata": {},
   "outputs": [
    {
     "data": {
      "image/png": "[encoded data removed]",
      "text/latex": [
       "$$\\frac{R_{1} Rb}{R_{2}} + \\frac{C_{2} Rb}{C_{1}}$$"
      ],
      "text/plain": [
       "R₁⋅Rb   C₂⋅Rb\n",
       "───── + ─────\n",
       "  R₂      C₁ "
      ]
     },
     "execution_count": 17,
     "metadata": {},
     "output_type": "execute_result"
    }
   ],
   "source": [
    "sym.re(sym.solve(expr2,R_f)[0])"
   ]
  },
  {
   "cell_type": "code",
   "execution_count": 18,
   "metadata": {},
   "outputs": [
    {
     "data": {
      "image/png": "[encoded data removed]",
      "text/latex": [
       "$$i C_{2} R_{1} Rb w + \\frac{R_{1} Rb}{R_{2}} + \\frac{C_{2} Rb}{C_{1}} - \\frac{i Rb}{C_{1} R_{2} w}$$"
      ],
      "text/plain": [
       "               R₁⋅Rb   C₂⋅Rb     ⅈ⋅Rb \n",
       "ⅈ⋅C₂⋅R₁⋅Rb⋅w + ───── + ───── - ───────\n",
       "                 R₂      C₁    C₁⋅R₂⋅w"
      ]
     },
     "execution_count": 18,
     "metadata": {},
     "output_type": "execute_result"
    }
   ],
   "source": [
    "sym.solve(expr2,R_f)[0]"
   ]
  },
  {
   "cell_type": "code",
   "execution_count": 19,
   "metadata": {},
   "outputs": [
    {
     "data": {
      "image/png": "[encoded data removed]",
      "text/latex": [
       "$$\\mathbb{R} \\cap \\left\\{- Rb \\left(R_{1} - \\frac{i}{C_{1} w}\\right) \\left(- i C_{2} w - \\frac{1}{R_{2}}\\right)\\right\\}$$"
      ],
      "text/plain": [
       "    ⎧    ⎛      ⅈ  ⎞ ⎛          1 ⎞⎫\n",
       "ℝ ∩ ⎨-Rb⋅⎜R₁ - ────⎟⋅⎜-ⅈ⋅C₂⋅w - ──⎟⎬\n",
       "    ⎩    ⎝     C₁⋅w⎠ ⎝          R₂⎠⎭"
      ]
     },
     "execution_count": 19,
     "metadata": {},
     "output_type": "execute_result"
    }
   ],
   "source": [
    "sym.solveset(expr2,R_f,domain=sym.S.Reals)"
   ]
  },
  {
   "cell_type": "code",
   "execution_count": 20,
   "metadata": {},
   "outputs": [
    {
     "data": {
      "image/png": "[encoded data removed]",
      "text/latex": [
       "$$i C_{2} R_{1} Rb w + \\frac{R_{1} Rb}{R_{2}} + \\frac{C_{2} Rb}{C_{1}} - \\frac{i Rb}{C_{1} R_{2} w} = Rf$$"
      ],
      "text/plain": [
       "               R₁⋅Rb   C₂⋅Rb     ⅈ⋅Rb      \n",
       "ⅈ⋅C₂⋅R₁⋅Rb⋅w + ───── + ───── - ─────── = Rf\n",
       "                 R₂      C₁    C₁⋅R₂⋅w     "
      ]
     },
     "execution_count": 20,
     "metadata": {},
     "output_type": "execute_result"
    }
   ],
   "source": [
    "sym.Eq(sym.solve(expr2,R_f)[0],R_f)"
   ]
  },
  {
   "cell_type": "code",
   "execution_count": 21,
   "metadata": {},
   "outputs": [
    {
     "data": {
      "image/png": "[encoded data removed]",
      "text/latex": [
       "$$\\frac{R_{1} Rb}{R_{2}} + \\frac{C_{2} Rb}{C_{1}}$$"
      ],
      "text/plain": [
       "R₁⋅Rb   C₂⋅Rb\n",
       "───── + ─────\n",
       "  R₂      C₁ "
      ]
     },
     "execution_count": 21,
     "metadata": {},
     "output_type": "execute_result"
    }
   ],
   "source": [
    "expr4 = sym.re(sym.solve(expr2,R_f)[0])\n",
    "expr4"
   ]
  },
  {
   "cell_type": "code",
   "execution_count": 22,
   "metadata": {},
   "outputs": [
    {
     "data": {
      "image/png": "[encoded data removed]",
      "text/latex": [
       "$$\\frac{Rf}{Rb} = \\frac{R_{1}}{R_{2}} + \\frac{C_{2}}{C_{1}}$$"
      ],
      "text/plain": [
       "Rf   R₁   C₂\n",
       "── = ── + ──\n",
       "Rb   R₂   C₁"
      ]
     },
     "execution_count": 22,
     "metadata": {},
     "output_type": "execute_result"
    }
   ],
   "source": [
    "sym.simplify(sym.Eq(expr4/R_b,R_f/R_b))"
   ]
  },
  {
   "cell_type": "code",
   "execution_count": 23,
   "metadata": {},
   "outputs": [
    {
     "data": {
      "image/png": "[encoded data removed]",
      "text/latex": [
       "$$C_{2} R_{1} Rb w - \\frac{Rb}{C_{1} R_{2} w}$$"
      ],
      "text/plain": [
       "                Rb  \n",
       "C₂⋅R₁⋅Rb⋅w - ───────\n",
       "             C₁⋅R₂⋅w"
      ]
     },
     "execution_count": 23,
     "metadata": {},
     "output_type": "execute_result"
    }
   ],
   "source": [
    "expr5 = sym.im(sym.solve(expr2,R_f)[0])\n",
    "expr5"
   ]
  },
  {
   "cell_type": "code",
   "execution_count": 24,
   "metadata": {},
   "outputs": [
    {
     "data": {
      "image/png": "[encoded data removed]",
      "text/latex": [
       "$$\\left [ - \\sqrt{\\frac{1}{C_{1} C_{2} R_{1} R_{2}}}, \\quad \\sqrt{\\frac{1}{C_{1} C_{2} R_{1} R_{2}}}\\right ]$$"
      ],
      "text/plain": [
       "⎡     _____________      _____________⎤\n",
       "⎢    ╱      1           ╱      1      ⎥\n",
       "⎢-  ╱  ─────────── ,   ╱  ─────────── ⎥\n",
       "⎣ ╲╱   C₁⋅C₂⋅R₁⋅R₂   ╲╱   C₁⋅C₂⋅R₁⋅R₂ ⎦"
      ]
     },
     "execution_count": 24,
     "metadata": {},
     "output_type": "execute_result"
    }
   ],
   "source": [
    "sym.solve(expr5,w_)"
   ]
  },
  {
   "cell_type": "code",
   "execution_count": 25,
   "metadata": {},
   "outputs": [
    {
     "data": {
      "image/png": "[encoded data removed]",
      "text/latex": [
       "$$\\sqrt{\\frac{1}{C_{1} C_{2} R_{1} R_{2}}} = w$$"
      ],
      "text/plain": [
       "    _____________    \n",
       "   ╱      1          \n",
       "  ╱  ───────────  = w\n",
       "╲╱   C₁⋅C₂⋅R₁⋅R₂     "
      ]
     },
     "execution_count": 25,
     "metadata": {},
     "output_type": "execute_result"
    }
   ],
   "source": [
    "equ5 = sym.Eq(sym.solve(expr5,w_)[1],w_)\n",
    "equ5"
   ]
  },
  {
   "cell_type": "code",
   "execution_count": null,
   "metadata": {},
   "outputs": [],
   "source": []
  },
  {
   "cell_type": "code",
   "execution_count": null,
   "metadata": {},
   "outputs": [],
   "source": []
  },
  {
   "cell_type": "markdown",
   "metadata": {},
   "source": [
    "### Transfer Function for Negative Feedback Loop"
   ]
  },
  {
   "cell_type": "code",
   "execution_count": 26,
   "metadata": {},
   "outputs": [
    {
     "data": {
      "image/png": "[encoded data removed]",
      "text/latex": [
       "$$\\frac{1}{\\left(C_{2} s + \\frac{1}{R_{2}}\\right) \\left(R_{1} + \\frac{1}{C_{2} s + \\frac{1}{R_{2}}} + \\frac{1}{C_{1} s}\\right)} = H(s)$$"
      ],
      "text/plain": [
       "                 1                        \n",
       "─────────────────────────────────── = H(s)\n",
       "⎛       1 ⎞ ⎛         1        1  ⎞       \n",
       "⎜C₂⋅s + ──⎟⋅⎜R₁ + ───────── + ────⎟       \n",
       "⎝       R₂⎠ ⎜            1    C₁⋅s⎟       \n",
       "            ⎜     C₂⋅s + ──       ⎟       \n",
       "            ⎝            R₂       ⎠       "
      ]
     },
     "execution_count": 26,
     "metadata": {},
     "output_type": "execute_result"
    }
   ],
   "source": [
    "eq1 = sym.Eq((Zpar/(Zser+Zpar)),H_s)\n",
    "eq1"
   ]
  },
  {
   "cell_type": "code",
   "execution_count": 27,
   "metadata": {},
   "outputs": [
    {
     "data": {
      "image/png": "[encoded data removed]",
      "text/latex": [
       "$$H(s) = \\frac{C_{1} R_{2} s}{C_{1} R_{1} s \\left(C_{2} R_{2} s + 1\\right) + C_{1} R_{2} s + C_{2} R_{2} s + 1}$$"
      ],
      "text/plain": [
       "                          C₁⋅R₂⋅s                   \n",
       "H(s) = ─────────────────────────────────────────────\n",
       "       C₁⋅R₁⋅s⋅(C₂⋅R₂⋅s + 1) + C₁⋅R₂⋅s + C₂⋅R₂⋅s + 1"
      ]
     },
     "execution_count": 27,
     "metadata": {},
     "output_type": "execute_result"
    }
   ],
   "source": [
    "eq1_sim = sym.simplify(eq1)\n",
    "eq1_sim"
   ]
  },
  {
   "cell_type": "code",
   "execution_count": 28,
   "metadata": {},
   "outputs": [
    {
     "data": {
      "image/png": "[encoded data removed]",
      "text/latex": [
       "$$\\frac{C_{1} R_{2} s}{C_{1} C_{2} R_{1} R_{2} s^{2} + C_{1} R_{1} s + C_{1} R_{2} s + C_{2} R_{2} s + 1} = H(s)$$"
      ],
      "text/plain": [
       "                    C₁⋅R₂⋅s                            \n",
       "──────────────────────────────────────────────── = H(s)\n",
       "             2                                         \n",
       "C₁⋅C₂⋅R₁⋅R₂⋅s  + C₁⋅R₁⋅s + C₁⋅R₂⋅s + C₂⋅R₂⋅s + 1       "
      ]
     },
     "execution_count": 28,
     "metadata": {},
     "output_type": "execute_result"
    }
   ],
   "source": [
    "eq1_fac = sym.factor(eq1)\n",
    "eq1_fac"
   ]
  },
  {
   "cell_type": "code",
   "execution_count": 29,
   "metadata": {},
   "outputs": [
    {
     "data": {
      "image/png": "[encoded data removed]",
      "text/latex": [
       "$$\\frac{C_{1} R_{2} s}{C_{1} R_{1} s \\left(C_{2} R_{2} s + 1\\right) + C_{1} R_{2} s + C_{2} R_{2} s + 1}$$"
      ],
      "text/plain": [
       "                   C₁⋅R₂⋅s                   \n",
       "─────────────────────────────────────────────\n",
       "C₁⋅R₁⋅s⋅(C₂⋅R₂⋅s + 1) + C₁⋅R₂⋅s + C₂⋅R₂⋅s + 1"
      ]
     },
     "execution_count": 29,
     "metadata": {},
     "output_type": "execute_result"
    }
   ],
   "source": [
    "exp1 = sym.simplify(Zpar/(Zser+Zpar))\n",
    "exp1"
   ]
  },
  {
   "cell_type": "code",
   "execution_count": 30,
   "metadata": {},
   "outputs": [
    {
     "data": {
      "image/png": "[encoded data removed]",
      "text/latex": [
       "$$\\frac{C_{1} R_{2} s}{C_{1} C_{2} R_{1} R_{2} s^{2} + C_{1} R_{1} s + C_{1} R_{2} s + C_{2} R_{2} s + 1}$$"
      ],
      "text/plain": [
       "                    C₁⋅R₂⋅s                     \n",
       "────────────────────────────────────────────────\n",
       "             2                                  \n",
       "C₁⋅C₂⋅R₁⋅R₂⋅s  + C₁⋅R₁⋅s + C₁⋅R₂⋅s + C₂⋅R₂⋅s + 1"
      ]
     },
     "execution_count": 30,
     "metadata": {},
     "output_type": "execute_result"
    }
   ],
   "source": [
    "exp2 = sym.factor(Zpar/(Zser+Zpar))\n",
    "exp2"
   ]
  },
  {
   "cell_type": "code",
   "execution_count": 31,
   "metadata": {},
   "outputs": [
    {
     "data": {
      "image/png": "[encoded data removed]",
      "text/latex": [
       "$$\\frac{C R s}{C^{2} R^{2} s^{2} + 3 C R s + 1}$$"
      ],
      "text/plain": [
       "        C⋅R⋅s         \n",
       "──────────────────────\n",
       " 2  2  2              \n",
       "C ⋅R ⋅s  + 3⋅C⋅R⋅s + 1"
      ]
     },
     "execution_count": 31,
     "metadata": {},
     "output_type": "execute_result"
    }
   ],
   "source": [
    "exp3 = exp2.subs([(C_1,C_),(C_2,C_),(R_1,R_),(R_2,R_)])\n",
    "exp3"
   ]
  },
  {
   "cell_type": "code",
   "execution_count": 32,
   "metadata": {},
   "outputs": [
    {
     "data": {
      "image/png": "[encoded data removed]",
      "text/latex": [
       "$$\\left [ \\left \\{ s : \\frac{-3 + \\sqrt{5}}{2 C R}\\right \\}, \\quad \\left \\{ s : - \\frac{\\sqrt{5} + 3}{2 C R}\\right \\}\\right ]$$"
      ],
      "text/plain": [
       "⎡⎧   -3 + √5⎫  ⎧   -(√5 + 3) ⎫⎤\n",
       "⎢⎨s: ───────⎬, ⎨s: ──────────⎬⎥\n",
       "⎣⎩    2⋅C⋅R ⎭  ⎩     2⋅C⋅R   ⎭⎦"
      ]
     },
     "execution_count": 32,
     "metadata": {},
     "output_type": "execute_result"
    }
   ],
   "source": [
    "sym.solve(exp3.as_numer_denom()[1],s, dict=True)"
   ]
  },
  {
   "cell_type": "markdown",
   "metadata": {},
   "source": [
    "# Bode Plots"
   ]
  },
  {
   "cell_type": "code",
   "execution_count": 33,
   "metadata": {},
   "outputs": [
    {
     "data": {
      "image/png": "[encoded data removed]",
      "text/latex": [
       "$$\\frac{1.0 \\cdot 10^{-5} s}{1.0 \\cdot 10^{-10} s^{2} + 3.0 \\cdot 10^{-5} s + 1}$$"
      ],
      "text/plain": [
       "         1.0e-5⋅s        \n",
       "─────────────────────────\n",
       "         2               \n",
       "1.0e-10⋅s  + 3.0e-5⋅s + 1"
      ]
     },
     "execution_count": 33,
     "metadata": {},
     "output_type": "execute_result"
    }
   ],
   "source": [
    "Cval = 1*10**-9\n",
    "Rval = 10*10**3\n",
    "exp4 = exp3.subs([(C_,Cval),(R_,Rval)])\n",
    "exp4"
   ]
  },
  {
   "cell_type": "code",
   "execution_count": 34,
   "metadata": {},
   "outputs": [
    {
     "data": {
      "image/png": "[encoded data removed]",
      "text/latex": [
       "$$100000.0 = w$$"
      ],
      "text/plain": [
       "100000.0 = w"
      ]
     },
     "execution_count": 34,
     "metadata": {},
     "output_type": "execute_result"
    }
   ],
   "source": [
    "equ5.subs([(C_1,Cval),(C_2,Cval),(R_1,Rval),(R_2,Rval)])"
   ]
  },
  {
   "cell_type": "code",
   "execution_count": 35,
   "metadata": {},
   "outputs": [
    {
     "data": {
      "image/png": "[encoded data removed]",
      "text/latex": [
       "$$15915.4943091895$$"
      ],
      "text/plain": [
       "15915.4943091895"
      ]
     },
     "execution_count": 35,
     "metadata": {},
     "output_type": "execute_result"
    }
   ],
   "source": [
    "sym.solve(equ5.subs([(C_1,Cval),(C_2,Cval),(R_1,Rval),(R_2,Rval)]))[0]/(2*np.pi)"
   ]
  },
  {
   "cell_type": "code",
   "execution_count": 36,
   "metadata": {},
   "outputs": [],
   "source": [
    "#fvec = np.logspace(-2,10,1000)\n",
    "fvec = np.logspace(1,7,1000)\n",
    "wvec = 2*np.pi*fvec\n",
    "svec = 1.0j*wvec"
   ]
  },
  {
   "cell_type": "code",
   "execution_count": 37,
   "metadata": {},
   "outputs": [],
   "source": [
    "exp4num, exp4den = exp4.as_numer_denom()  # expressions"
   ]
  },
  {
   "cell_type": "code",
   "execution_count": 38,
   "metadata": {},
   "outputs": [
    {
     "data": {
      "image/png": "[encoded data removed]",
      "text/latex": [
       "$$\\left ( \\operatorname{Poly}{\\left( 1.0 \\cdot 10^{-5} s, s, domain=\\mathbb{R} \\right)}, \\quad \\operatorname{Poly}{\\left( 1.0 \\cdot 10^{-10} s^{2} + 3.0 \\cdot 10^{-5} s + 1.0, s, domain=\\mathbb{R} \\right)}\\right )$$"
      ],
      "text/plain": [
       "(Poly(1.0e-5*s, s, domain='RR'), Poly(1.0e-10*s**2 + 3.0e-5*s + 1.0, s, domain\n",
       "='RR'))"
      ]
     },
     "execution_count": 38,
     "metadata": {},
     "output_type": "execute_result"
    }
   ],
   "source": [
    "p_num_den = sym.poly(exp4num, s), sym.poly(exp4den, s)  # polynomials\n",
    "p_num_den"
   ]
  },
  {
   "cell_type": "code",
   "execution_count": 39,
   "metadata": {},
   "outputs": [
    {
     "data": {
      "image/png": "[encoded data removed]",
      "text/latex": [
       "$$\\left [ \\left [ 1.0 \\cdot 10^{-5}, \\quad 0.0\\right ], \\quad \\left [ 1.0 \\cdot 10^{-10}, \\quad 3.0 \\cdot 10^{-5}, \\quad 1.0\\right ]\\right ]$$"
      ],
      "text/plain": [
       "[[1.0e-5, 0.0], [1.0e-10, 3.0e-5, 1.0]]"
      ]
     },
     "execution_count": 39,
     "metadata": {},
     "output_type": "execute_result"
    }
   ],
   "source": [
    "c_num_den = [sym.expand(p).all_coeffs() for p in p_num_den]\n",
    "c_num_den"
   ]
  },
  {
   "cell_type": "code",
   "execution_count": 40,
   "metadata": {},
   "outputs": [
    {
     "name": "stdout",
     "output_type": "stream",
     "text": [
      "[1e-05, 0.0]\n",
      "[1e-10, 3e-05, 1.0]\n"
     ]
    }
   ],
   "source": [
    "l_num, l_den = [sym.lambdify((), c)() for c in c_num_den]  # convert coeffs to floats\n",
    "print(l_num)\n",
    "print(l_den)"
   ]
  },
  {
   "cell_type": "code",
   "execution_count": 41,
   "metadata": {},
   "outputs": [
    {
     "data": {
      "text/latex": [
       "$$\\frac{1 \\times 10^{-5} s}{1 \\times 10^{-10} s^2 + 3 \\times 10^{-5} s + 1}$$"
      ],
      "text/plain": [
       "\n",
       "        1e-05 s\n",
       "-----------------------\n",
       "1e-10 s^2 + 3e-05 s + 1"
      ]
     },
     "execution_count": 41,
     "metadata": {},
     "output_type": "execute_result"
    }
   ],
   "source": [
    "#B_tf = control.TransferFunction(l_num,l_den)\n",
    "B_tf = control.TransferFunction(l_num,l_den)\n",
    "B_tf"
   ]
  },
  {
   "cell_type": "code",
   "execution_count": 42,
   "metadata": {},
   "outputs": [
    {
     "data": {
      "image/png": "[encoded data removed]",
      "text/plain": [
       "<Figure size 432x288 with 2 Axes>"
      ]
     },
     "metadata": {
      "needs_background": "light"
     },
     "output_type": "display_data"
    }
   ],
   "source": [
    "#out = control.bode_plot(B_tf)\n",
    "out = control.bode_plot(B_tf,wvec,dB=1,Hz=1,deg=1)"
   ]
  },
  {
   "cell_type": "code",
   "execution_count": 43,
   "metadata": {},
   "outputs": [],
   "source": [
    "B_tfvec = B_tf(svec)\n",
    "db2 = 20*np.log10(np.abs(B_tfvec))\n",
    "phase2 = np.angle(B_tfvec,1)"
   ]
  },
  {
   "cell_type": "code",
   "execution_count": 44,
   "metadata": {},
   "outputs": [
    {
     "data": {
      "image/png": "[encoded data removed]",
      "text/plain": [
       "<Figure size 432x288 with 2 Axes>"
      ]
     },
     "metadata": {
      "needs_background": "light"
     },
     "output_type": "display_data"
    }
   ],
   "source": [
    "plt.figure()\n",
    "plt.subplot(211)\n",
    "plt.semilogx(fvec,db2)\n",
    "plt.ylabel('dB Mag.')\n",
    "plt.ylim([-60,10])\n",
    "#plt.xlim([7*10**2,10**7])\n",
    "plt.grid(b=True, which='both')\n",
    "plt.subplot(212)\n",
    "plt.semilogx(fvec,phase2)\n",
    "plt.xlabel('Freq. (Hz)')\n",
    "plt.ylabel('Phase (deg.)')\n",
    "plt.ylim([-95,95])\n",
    "plt.grid(b=True, which='both')\n",
    "out = plt.yticks(np.arange(-90,95,30))"
   ]
  },
  {
   "cell_type": "code",
   "execution_count": 45,
   "metadata": {},
   "outputs": [
    {
     "data": {
      "image/png": "[encoded data removed]",
      "text/latex": [
       "$$\\frac{s}{s^{2} + 3 s + 1}$$"
      ],
      "text/plain": [
       "     s      \n",
       "────────────\n",
       " 2          \n",
       "s  + 3⋅s + 1"
      ]
     },
     "execution_count": 45,
     "metadata": {},
     "output_type": "execute_result"
    }
   ],
   "source": [
    "#exp7 = exp6.subs([(C_,1),(R_,1)])\n",
    "exp7 = exp3.subs([(C_*R_,1)])\n",
    "exp7"
   ]
  },
  {
   "cell_type": "code",
   "execution_count": 46,
   "metadata": {},
   "outputs": [],
   "source": [
    "exp7num, exp7den = sym.simplify(exp7).as_numer_denom()  # expressions"
   ]
  },
  {
   "cell_type": "code",
   "execution_count": 47,
   "metadata": {},
   "outputs": [
    {
     "data": {
      "image/png": "[encoded data removed]",
      "text/latex": [
       "$$s$$"
      ],
      "text/plain": [
       "s"
      ]
     },
     "execution_count": 47,
     "metadata": {},
     "output_type": "execute_result"
    }
   ],
   "source": [
    "exp7num"
   ]
  },
  {
   "cell_type": "code",
   "execution_count": 48,
   "metadata": {},
   "outputs": [
    {
     "data": {
      "image/png": "[encoded data removed]",
      "text/latex": [
       "$$s^{2} + 3 s + 1$$"
      ],
      "text/plain": [
       " 2          \n",
       "s  + 3⋅s + 1"
      ]
     },
     "execution_count": 48,
     "metadata": {},
     "output_type": "execute_result"
    }
   ],
   "source": [
    "exp7den"
   ]
  },
  {
   "cell_type": "code",
   "execution_count": 49,
   "metadata": {},
   "outputs": [
    {
     "data": {
      "image/png": "[encoded data removed]",
      "text/latex": [
       "$$\\left ( \\operatorname{Poly}{\\left( s, s, domain=\\mathbb{Z} \\right)}, \\quad \\operatorname{Poly}{\\left( s^{2} + 3 s + 1, s, domain=\\mathbb{Z} \\right)}\\right )$$"
      ],
      "text/plain": [
       "(Poly(s, s, domain='ZZ'), Poly(s**2 + 3*s + 1, s, domain='ZZ'))"
      ]
     },
     "execution_count": 49,
     "metadata": {},
     "output_type": "execute_result"
    }
   ],
   "source": [
    "p_num_den = sym.poly(exp7num, s), sym.poly(exp7den, s)  # polynomials\n",
    "p_num_den"
   ]
  },
  {
   "cell_type": "code",
   "execution_count": 50,
   "metadata": {},
   "outputs": [
    {
     "data": {
      "image/png": "[encoded data removed]",
      "text/latex": [
       "$$\\left [ \\left [ 1, \\quad 0\\right ], \\quad \\left [ 1, \\quad 3, \\quad 1\\right ]\\right ]$$"
      ],
      "text/plain": [
       "[[1, 0], [1, 3, 1]]"
      ]
     },
     "execution_count": 50,
     "metadata": {},
     "output_type": "execute_result"
    }
   ],
   "source": [
    "c_num_den = [sym.expand(p).all_coeffs() for p in p_num_den]\n",
    "c_num_den"
   ]
  },
  {
   "cell_type": "code",
   "execution_count": 51,
   "metadata": {},
   "outputs": [],
   "source": [
    "l_num, l_den = [sym.lambdify((), c)() for c in c_num_den]  # convert to floats"
   ]
  },
  {
   "cell_type": "code",
   "execution_count": 52,
   "metadata": {},
   "outputs": [
    {
     "data": {
      "text/latex": [
       "$$\\frac{s}{s^2 + 3 s + 1}$$"
      ],
      "text/plain": [
       "\n",
       "      s\n",
       "-------------\n",
       "s^2 + 3 s + 1"
      ]
     },
     "execution_count": 52,
     "metadata": {},
     "output_type": "execute_result"
    }
   ],
   "source": [
    "H_tf = control.TransferFunction(l_num,l_den)\n",
    "H_tf"
   ]
  },
  {
   "cell_type": "code",
   "execution_count": 53,
   "metadata": {},
   "outputs": [
    {
     "data": {
      "text/latex": [
       "$$\\frac{s}{s^2 + 3 s + 1}$$"
      ],
      "text/plain": [
       "\n",
       "      s\n",
       "-------------\n",
       "s^2 + 3 s + 1"
      ]
     },
     "execution_count": 53,
     "metadata": {},
     "output_type": "execute_result"
    }
   ],
   "source": [
    "#G_tf = control.TransferFunction([1,0],[1,3,1])\n",
    "#num1 = (1,0)\n",
    "#den1 = (1,3,1)\n",
    "#H_tf = control.TransferFunction(num1,den1)\n",
    "H_tf"
   ]
  },
  {
   "cell_type": "markdown",
   "metadata": {},
   "source": [
    "# Root Locus"
   ]
  },
  {
   "cell_type": "code",
   "execution_count": 54,
   "metadata": {},
   "outputs": [],
   "source": [
    "X_s = sym.Symbol('X(s)')\n",
    "Y_s = sym.Symbol('Y(s)')\n",
    "G_s = sym.Symbol('G(s)')\n",
    "K = sym.Symbol('K')\n",
    "z_1 = sym.Symbol('z1')\n",
    "p_1 = sym.Symbol('p1')\n",
    "p_2 = sym.Symbol('p2')"
   ]
  },
  {
   "cell_type": "code",
   "execution_count": 55,
   "metadata": {},
   "outputs": [
    {
     "data": {
      "image/png": "[encoded data removed]",
      "text/latex": [
       "$$\\left [ \\left \\{ s : - \\frac{3}{2} - \\frac{\\sqrt{5}}{2}\\right \\}, \\quad \\left \\{ s : - \\frac{3}{2} + \\frac{\\sqrt{5}}{2}\\right \\}\\right ]$$"
      ],
      "text/plain": [
       "⎡⎧     3   √5⎫  ⎧     3   √5⎫⎤\n",
       "⎢⎨s: - ─ - ──⎬, ⎨s: - ─ + ──⎬⎥\n",
       "⎣⎩     2   2 ⎭  ⎩     2   2 ⎭⎦"
      ]
     },
     "execution_count": 55,
     "metadata": {},
     "output_type": "execute_result"
    }
   ],
   "source": [
    "#Pole locations\n",
    "sym.solve(exp7den,s, dict=True)"
   ]
  },
  {
   "cell_type": "code",
   "execution_count": 56,
   "metadata": {},
   "outputs": [
    {
     "data": {
      "image/png": "[encoded data removed]",
      "text/latex": [
       "$$\\left [ -2.61803398874989, \\quad -0.381966011250105\\right ]$$"
      ],
      "text/plain": [
       "[-2.61803398874989, -0.381966011250105]"
      ]
     },
     "execution_count": 56,
     "metadata": {},
     "output_type": "execute_result"
    }
   ],
   "source": [
    "[x.evalf() for x in sym.solve(exp7den,s)]"
   ]
  },
  {
   "cell_type": "code",
   "execution_count": 57,
   "metadata": {},
   "outputs": [
    {
     "data": {
      "image/png": "[encoded data removed]",
      "text/latex": [
       "$$\\frac{G(s)}{G(s) H(s) + 1}$$"
      ],
      "text/plain": [
       "     G(s)    \n",
       "─────────────\n",
       "G(s)⋅H(s) + 1"
      ]
     },
     "execution_count": 57,
     "metadata": {},
     "output_type": "execute_result"
    }
   ],
   "source": [
    "exp8 = G_s/(1+G_s*H_s)\n",
    "exp8"
   ]
  },
  {
   "cell_type": "code",
   "execution_count": 58,
   "metadata": {},
   "outputs": [
    {
     "data": {
      "image/png": "[encoded data removed]",
      "text/latex": [
       "$$\\frac{G(s)}{G(s) H(s) + 1} = \\frac{Y(s)}{X(s)}$$"
      ],
      "text/plain": [
       "     G(s)       Y(s)\n",
       "───────────── = ────\n",
       "G(s)⋅H(s) + 1   X(s)"
      ]
     },
     "execution_count": 58,
     "metadata": {},
     "output_type": "execute_result"
    }
   ],
   "source": [
    "eq8 = sym.Eq(exp8,Y_s/X_s)\n",
    "eq8"
   ]
  },
  {
   "cell_type": "code",
   "execution_count": 59,
   "metadata": {},
   "outputs": [
    {
     "data": {
      "image/png": "[encoded data removed]",
      "text/latex": [
       "$$\\frac{K \\left(s + z_{1}\\right)}{\\left(p_{1} + s\\right) \\left(p_{2} + s\\right)}$$"
      ],
      "text/plain": [
       "    K⋅(s + z₁)   \n",
       "─────────────────\n",
       "(p₁ + s)⋅(p₂ + s)"
      ]
     },
     "execution_count": 59,
     "metadata": {},
     "output_type": "execute_result"
    }
   ],
   "source": [
    "exp9 = K*(s+z_1)/((s+p_1)*(s+p_2))\n",
    "exp9"
   ]
  },
  {
   "cell_type": "code",
   "execution_count": 60,
   "metadata": {},
   "outputs": [
    {
     "data": {
      "image/png": "[encoded data removed]",
      "text/latex": [
       "$$\\frac{K \\left(s + z_{1}\\right)}{\\left(p_{1} + s\\right) \\left(p_{2} + s\\right)} = G(s) H(s)$$"
      ],
      "text/plain": [
       "    K⋅(s + z₁)               \n",
       "───────────────── = G(s)⋅H(s)\n",
       "(p₁ + s)⋅(p₂ + s)            "
      ]
     },
     "execution_count": 60,
     "metadata": {},
     "output_type": "execute_result"
    }
   ],
   "source": [
    "eq9 = sym.Eq(exp9,G_s*H_s)\n",
    "eq9"
   ]
  },
  {
   "cell_type": "code",
   "execution_count": 61,
   "metadata": {},
   "outputs": [
    {
     "data": {
      "image/png": "[encoded data removed]",
      "text/latex": [
       "$$\\frac{K \\left(s + z_{1}\\right)}{\\left(p_{1} + s\\right) \\left(p_{2} + s\\right)} = 1$$"
      ],
      "text/plain": [
       "    K⋅(s + z₁)       \n",
       "───────────────── = 1\n",
       "(p₁ + s)⋅(p₂ + s)    "
      ]
     },
     "execution_count": 61,
     "metadata": {},
     "output_type": "execute_result"
    }
   ],
   "source": [
    "eq10 = sym.Eq(exp9,1)\n",
    "eq10"
   ]
  },
  {
   "cell_type": "code",
   "execution_count": 62,
   "metadata": {},
   "outputs": [
    {
     "data": {
      "image/png": "[encoded data removed]",
      "text/latex": [
       "$$\\frac{K s}{s^{2} + 3 s + 1} = 1$$"
      ],
      "text/plain": [
       "    K⋅s         \n",
       "──────────── = 1\n",
       " 2              \n",
       "s  + 3⋅s + 1    "
      ]
     },
     "execution_count": 62,
     "metadata": {},
     "output_type": "execute_result"
    }
   ],
   "source": [
    "eq11 = sym.Eq(K*exp7,1)\n",
    "eq11"
   ]
  },
  {
   "cell_type": "code",
   "execution_count": 63,
   "metadata": {},
   "outputs": [
    {
     "data": {
      "image/png": "[encoded data removed]",
      "text/latex": [
       "$$s^{2} + s \\left(- K + 3\\right) + 1 = 0$$"
      ],
      "text/plain": [
       " 2                     \n",
       "s  + s⋅(-K + 3) + 1 = 0"
      ]
     },
     "execution_count": 63,
     "metadata": {},
     "output_type": "execute_result"
    }
   ],
   "source": [
    "eq12 = sym.Eq(s**2+(3-K)*s+1,0)\n",
    "eq12"
   ]
  },
  {
   "cell_type": "code",
   "execution_count": 64,
   "metadata": {},
   "outputs": [
    {
     "data": {
      "image/png": "[encoded data removed]",
      "text/latex": [
       "$$s^{2} - s \\left(K - 3\\right) + 1$$"
      ],
      "text/plain": [
       " 2                \n",
       "s  - s⋅(K - 3) + 1"
      ]
     },
     "execution_count": 64,
     "metadata": {},
     "output_type": "execute_result"
    }
   ],
   "source": [
    "sym.simplify(s**2+(3-K)*s+1)"
   ]
  },
  {
   "cell_type": "code",
   "execution_count": 65,
   "metadata": {},
   "outputs": [
    {
     "data": {
      "image/png": "[encoded data removed]",
      "text/latex": [
       "$$\\left [ \\left \\{ s : \\frac{K}{2} - \\frac{\\sqrt{\\left(K - 5\\right) \\left(K - 1\\right)}}{2} - \\frac{3}{2}\\right \\}, \\quad \\left \\{ s : \\frac{K}{2} + \\frac{\\sqrt{\\left(K - 5\\right) \\left(K - 1\\right)}}{2} - \\frac{3}{2}\\right \\}\\right ]$$"
      ],
      "text/plain": [
       "⎡⎧         _________________    ⎫  ⎧         _________________    ⎫⎤\n",
       "⎢⎪   K   ╲╱ (K - 5)⋅(K - 1)    3⎪  ⎪   K   ╲╱ (K - 5)⋅(K - 1)    3⎪⎥\n",
       "⎢⎨s: ─ - ─────────────────── - ─⎬, ⎨s: ─ + ─────────────────── - ─⎬⎥\n",
       "⎢⎪   2            2            2⎪  ⎪   2            2            2⎪⎥\n",
       "⎣⎩                              ⎭  ⎩                              ⎭⎦"
      ]
     },
     "execution_count": 65,
     "metadata": {},
     "output_type": "execute_result"
    }
   ],
   "source": [
    "eq13 = sym.solve(eq11,s, dict=True)\n",
    "eq13"
   ]
  },
  {
   "cell_type": "markdown",
   "metadata": {},
   "source": [
    "### K = 0, poles become:"
   ]
  },
  {
   "cell_type": "code",
   "execution_count": 66,
   "metadata": {},
   "outputs": [
    {
     "data": {
      "image/png": "[encoded data removed]",
      "text/latex": [
       "$$s^{2} + 3 s + 1 = 0$$"
      ],
      "text/plain": [
       " 2              \n",
       "s  + 3⋅s + 1 = 0"
      ]
     },
     "execution_count": 66,
     "metadata": {},
     "output_type": "execute_result"
    }
   ],
   "source": [
    "eq14 = eq12.subs(K,0)\n",
    "eq14"
   ]
  },
  {
   "cell_type": "code",
   "execution_count": 67,
   "metadata": {},
   "outputs": [
    {
     "data": {
      "image/png": "[encoded data removed]",
      "text/latex": [
       "$$\\left [ \\left \\{ s : - \\frac{3}{2} - \\frac{\\sqrt{5}}{2}\\right \\}, \\quad \\left \\{ s : - \\frac{3}{2} + \\frac{\\sqrt{5}}{2}\\right \\}\\right ]$$"
      ],
      "text/plain": [
       "⎡⎧     3   √5⎫  ⎧     3   √5⎫⎤\n",
       "⎢⎨s: - ─ - ──⎬, ⎨s: - ─ + ──⎬⎥\n",
       "⎣⎩     2   2 ⎭  ⎩     2   2 ⎭⎦"
      ]
     },
     "execution_count": 67,
     "metadata": {},
     "output_type": "execute_result"
    }
   ],
   "source": [
    "sym.solve(eq14,s, dict=True)"
   ]
  },
  {
   "cell_type": "markdown",
   "metadata": {},
   "source": [
    "### K = 0.001, poles become:"
   ]
  },
  {
   "cell_type": "code",
   "execution_count": 68,
   "metadata": {},
   "outputs": [
    {
     "data": {
      "image/png": "[encoded data removed]",
      "text/latex": [
       "$$\\left [ \\left \\{ s : -2.61686307886022\\right \\}, \\quad \\left \\{ s : -0.382136921139776\\right \\}\\right ]$$"
      ],
      "text/plain": [
       "[{s: -2.61686307886022}, {s: -0.382136921139776}]"
      ]
     },
     "execution_count": 68,
     "metadata": {},
     "output_type": "execute_result"
    }
   ],
   "source": [
    "sym.solve(eq11.subs([(K,0.001)]),s, dict=True)"
   ]
  },
  {
   "cell_type": "markdown",
   "metadata": {},
   "source": [
    "### K is 1, poles become:"
   ]
  },
  {
   "cell_type": "code",
   "execution_count": 69,
   "metadata": {},
   "outputs": [
    {
     "data": {
      "image/png": "[encoded data removed]",
      "text/latex": [
       "$$\\left [ \\left \\{ s : -1\\right \\}\\right ]$$"
      ],
      "text/plain": [
       "[{s: -1}]"
      ]
     },
     "execution_count": 69,
     "metadata": {},
     "output_type": "execute_result"
    }
   ],
   "source": [
    "sym.solve(eq11.subs([(K,1)]),s, dict=True)"
   ]
  },
  {
   "cell_type": "markdown",
   "metadata": {},
   "source": [
    "### K is 2, poles become:"
   ]
  },
  {
   "cell_type": "code",
   "execution_count": 70,
   "metadata": {},
   "outputs": [
    {
     "data": {
      "image/png": "[encoded data removed]",
      "text/latex": [
       "$$\\left [ \\left \\{ s : - \\frac{1}{2} - \\frac{\\sqrt{3} i}{2}\\right \\}, \\quad \\left \\{ s : - \\frac{1}{2} + \\frac{\\sqrt{3} i}{2}\\right \\}\\right ]$$"
      ],
      "text/plain": [
       "⎡⎧     1   √3⋅ⅈ⎫  ⎧     1   √3⋅ⅈ⎫⎤\n",
       "⎢⎨s: - ─ - ────⎬, ⎨s: - ─ + ────⎬⎥\n",
       "⎣⎩     2    2  ⎭  ⎩     2    2  ⎭⎦"
      ]
     },
     "execution_count": 70,
     "metadata": {},
     "output_type": "execute_result"
    }
   ],
   "source": [
    "sym.solve(eq11.subs([(K,2)]),s, dict=True)"
   ]
  },
  {
   "cell_type": "markdown",
   "metadata": {},
   "source": [
    "### K is 3, poles become:"
   ]
  },
  {
   "cell_type": "code",
   "execution_count": 71,
   "metadata": {},
   "outputs": [
    {
     "data": {
      "image/png": "[encoded data removed]",
      "text/latex": [
       "$$\\left [ \\left \\{ s : - i\\right \\}, \\quad \\left \\{ s : i\\right \\}\\right ]$$"
      ],
      "text/plain": [
       "[{s: -ⅈ}, {s: ⅈ}]"
      ]
     },
     "execution_count": 71,
     "metadata": {},
     "output_type": "execute_result"
    }
   ],
   "source": [
    "sym.solve(eq11.subs([(K,3)]),s, dict=True)"
   ]
  },
  {
   "cell_type": "markdown",
   "metadata": {},
   "source": [
    "### K is 4, poles become:"
   ]
  },
  {
   "cell_type": "code",
   "execution_count": 72,
   "metadata": {},
   "outputs": [
    {
     "data": {
      "image/png": "[encoded data removed]",
      "text/latex": [
       "$$\\left [ \\left \\{ s : \\frac{1}{2} - \\frac{\\sqrt{3} i}{2}\\right \\}, \\quad \\left \\{ s : \\frac{1}{2} + \\frac{\\sqrt{3} i}{2}\\right \\}\\right ]$$"
      ],
      "text/plain": [
       "⎡⎧   1   √3⋅ⅈ⎫  ⎧   1   √3⋅ⅈ⎫⎤\n",
       "⎢⎨s: ─ - ────⎬, ⎨s: ─ + ────⎬⎥\n",
       "⎣⎩   2    2  ⎭  ⎩   2    2  ⎭⎦"
      ]
     },
     "execution_count": 72,
     "metadata": {},
     "output_type": "execute_result"
    }
   ],
   "source": [
    "sym.solve(eq11.subs([(K,4)]),s, dict=True)"
   ]
  },
  {
   "cell_type": "markdown",
   "metadata": {},
   "source": [
    "### K is 5, poles become:"
   ]
  },
  {
   "cell_type": "code",
   "execution_count": 73,
   "metadata": {},
   "outputs": [
    {
     "data": {
      "image/png": "[encoded data removed]",
      "text/latex": [
       "$$\\left [ \\left \\{ s : 1\\right \\}\\right ]$$"
      ],
      "text/plain": [
       "[{s: 1}]"
      ]
     },
     "execution_count": 73,
     "metadata": {},
     "output_type": "execute_result"
    }
   ],
   "source": [
    "sym.solve(eq11.subs([(K,5)]),s, dict=True)"
   ]
  },
  {
   "cell_type": "code",
   "execution_count": 74,
   "metadata": {},
   "outputs": [
    {
     "data": {
      "image/png": "[encoded data removed]",
      "text/plain": [
       "<Figure size 432x288 with 1 Axes>"
      ]
     },
     "metadata": {
      "needs_background": "light"
     },
     "output_type": "display_data"
    }
   ],
   "source": [
    "Out_rl = control.root_locus(sys=(-H_tf), xlim=(-3,3), ylim=(-1.5,1.5))"
   ]
  }
 ],
 "metadata": {
  "kernelspec": {
   "display_name": "Python 3",
   "language": "python",
   "name": "python3"
  },
  "language_info": {
   "codemirror_mode": {
    "name": "ipython",
    "version": 3
   },
   "file_extension": ".py",
   "mimetype": "text/x-python",
   "name": "python",
   "nbconvert_exporter": "python",
   "pygments_lexer": "ipython3",
   "version": "3.7.3"
  }
 },
 "nbformat": 4,
 "nbformat_minor": 1
}
