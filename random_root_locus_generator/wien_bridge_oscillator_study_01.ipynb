{
 "cells": [
  {
   "cell_type": "code",
   "execution_count": 1,
   "metadata": {},
   "outputs": [],
   "source": [
    "%matplotlib inline\n",
    "#%matplotlib\n",
    "import matplotlib.pyplot as plt\n",
    "import numpy as np\n",
    "import sympy as sym\n",
    "sym.init_printing()\n",
    "import control"
   ]
  },
  {
   "cell_type": "markdown",
   "metadata": {},
   "source": [
    "Reference:\n",
    "https://www.electronics-tutorials.ws/oscillator/wien_bridge.html"
   ]
  },
  {
   "cell_type": "code",
   "execution_count": 2,
   "metadata": {},
   "outputs": [],
   "source": [
    "s = sym.Symbol('s')\n",
    "C_1 = sym.Symbol('C1')\n",
    "C_2 = sym.Symbol('C2')\n",
    "C_ = sym.Symbol('C')\n",
    "R_1 = sym.Symbol('R1')\n",
    "R_2 = sym.Symbol('R2')\n",
    "R_ = sym.Symbol('R')\n",
    "H_s = sym.Symbol('H(s)')"
   ]
  },
  {
   "cell_type": "code",
   "execution_count": 3,
   "metadata": {},
   "outputs": [
    {
     "data": {
      "image/png": "[encoded data removed]",
      "text/latex": [
       "$$\\frac{R_{1}}{C_{1} R_{1} s + 1}$$"
      ],
      "text/plain": [
       "     R₁    \n",
       "───────────\n",
       "C₁⋅R₁⋅s + 1"
      ]
     },
     "execution_count": 3,
     "metadata": {},
     "output_type": "execute_result"
    }
   ],
   "source": [
    "exp1 = R_1/(1+s*C_1*R_1)\n",
    "exp1"
   ]
  },
  {
   "cell_type": "code",
   "execution_count": 4,
   "metadata": {},
   "outputs": [
    {
     "data": {
      "image/png": "[encoded data removed]",
      "text/latex": [
       "$$\\frac{R_{1}}{C_{1} R_{1} s + 1}$$"
      ],
      "text/plain": [
       "     R₁    \n",
       "───────────\n",
       "C₁⋅R₁⋅s + 1"
      ]
     },
     "execution_count": 4,
     "metadata": {},
     "output_type": "execute_result"
    }
   ],
   "source": [
    "exp2 = exp1\n",
    "exp2"
   ]
  },
  {
   "cell_type": "code",
   "execution_count": 5,
   "metadata": {},
   "outputs": [
    {
     "data": {
      "image/png": "[encoded data removed]",
      "text/latex": [
       "$$R_{2} + \\frac{1}{C_{2} s}$$"
      ],
      "text/plain": [
       "      1  \n",
       "R₂ + ────\n",
       "     C₂⋅s"
      ]
     },
     "execution_count": 5,
     "metadata": {},
     "output_type": "execute_result"
    }
   ],
   "source": [
    "exp3 = R_2+1/(s*C_2)\n",
    "exp3"
   ]
  },
  {
   "cell_type": "code",
   "execution_count": 6,
   "metadata": {},
   "outputs": [
    {
     "data": {
      "image/png": "[encoded data removed]",
      "text/latex": [
       "$$\\frac{R_{1}}{\\left(C_{1} R_{1} s + 1\\right) \\left(\\frac{R_{1}}{C_{1} R_{1} s + 1} + R_{2} + \\frac{1}{C_{2} s}\\right)} = H(s)$$"
      ],
      "text/plain": [
       "                   R₁                         \n",
       "─────────────────────────────────────── = H(s)\n",
       "              ⎛     R₁             1  ⎞       \n",
       "(C₁⋅R₁⋅s + 1)⋅⎜─────────── + R₂ + ────⎟       \n",
       "              ⎝C₁⋅R₁⋅s + 1        C₂⋅s⎠       "
      ]
     },
     "execution_count": 6,
     "metadata": {},
     "output_type": "execute_result"
    }
   ],
   "source": [
    "eq1 = sym.Eq((exp1/(exp2+exp3)),H_s)\n",
    "eq1"
   ]
  },
  {
   "cell_type": "code",
   "execution_count": 7,
   "metadata": {},
   "outputs": [
    {
     "data": {
      "image/png": "[encoded data removed]",
      "text/latex": [
       "$$H(s) = \\frac{C_{2} R_{1} s}{C_{1} R_{1} s + C_{2} R_{1} s + C_{2} R_{2} s \\left(C_{1} R_{1} s + 1\\right) + 1}$$"
      ],
      "text/plain": [
       "                          C₂⋅R₁⋅s                   \n",
       "H(s) = ─────────────────────────────────────────────\n",
       "       C₁⋅R₁⋅s + C₂⋅R₁⋅s + C₂⋅R₂⋅s⋅(C₁⋅R₁⋅s + 1) + 1"
      ]
     },
     "execution_count": 7,
     "metadata": {},
     "output_type": "execute_result"
    }
   ],
   "source": [
    "eq1_sim = sym.simplify(eq1)\n",
    "eq1_sim"
   ]
  },
  {
   "cell_type": "code",
   "execution_count": 8,
   "metadata": {},
   "outputs": [
    {
     "data": {
      "image/png": "[encoded data removed]",
      "text/latex": [
       "$$\\frac{C_{2} R_{1} s}{C_{1} C_{2} R_{1} R_{2} s^{2} + C_{1} R_{1} s + C_{2} R_{1} s + C_{2} R_{2} s + 1} = H(s)$$"
      ],
      "text/plain": [
       "                    C₂⋅R₁⋅s                            \n",
       "──────────────────────────────────────────────── = H(s)\n",
       "             2                                         \n",
       "C₁⋅C₂⋅R₁⋅R₂⋅s  + C₁⋅R₁⋅s + C₂⋅R₁⋅s + C₂⋅R₂⋅s + 1       "
      ]
     },
     "execution_count": 8,
     "metadata": {},
     "output_type": "execute_result"
    }
   ],
   "source": [
    "eq1_fac = sym.factor(eq1)\n",
    "eq1_fac"
   ]
  },
  {
   "cell_type": "code",
   "execution_count": 9,
   "metadata": {},
   "outputs": [
    {
     "data": {
      "image/png": "[encoded data removed]",
      "text/latex": [
       "$$\\frac{C_{2} R_{1} s}{C_{1} R_{1} s + C_{2} R_{1} s + C_{2} R_{2} s \\left(C_{1} R_{1} s + 1\\right) + 1}$$"
      ],
      "text/plain": [
       "                   C₂⋅R₁⋅s                   \n",
       "─────────────────────────────────────────────\n",
       "C₁⋅R₁⋅s + C₂⋅R₁⋅s + C₂⋅R₂⋅s⋅(C₁⋅R₁⋅s + 1) + 1"
      ]
     },
     "execution_count": 9,
     "metadata": {},
     "output_type": "execute_result"
    }
   ],
   "source": [
    "exp4 = sym.simplify(exp1/(exp2+exp3))\n",
    "exp4"
   ]
  },
  {
   "cell_type": "code",
   "execution_count": 10,
   "metadata": {},
   "outputs": [
    {
     "data": {
      "image/png": "[encoded data removed]",
      "text/latex": [
       "$$\\frac{C_{2} R_{1} s}{C_{1} C_{2} R_{1} R_{2} s^{2} + C_{1} R_{1} s + C_{2} R_{1} s + C_{2} R_{2} s + 1}$$"
      ],
      "text/plain": [
       "                    C₂⋅R₁⋅s                     \n",
       "────────────────────────────────────────────────\n",
       "             2                                  \n",
       "C₁⋅C₂⋅R₁⋅R₂⋅s  + C₁⋅R₁⋅s + C₂⋅R₁⋅s + C₂⋅R₂⋅s + 1"
      ]
     },
     "execution_count": 10,
     "metadata": {},
     "output_type": "execute_result"
    }
   ],
   "source": [
    "exp5 = sym.factor(exp1/(exp2+exp3))\n",
    "exp5"
   ]
  },
  {
   "cell_type": "code",
   "execution_count": 11,
   "metadata": {},
   "outputs": [
    {
     "data": {
      "image/png": "[encoded data removed]",
      "text/latex": [
       "$$\\frac{C R s}{C^{2} R^{2} s^{2} + 3 C R s + 1}$$"
      ],
      "text/plain": [
       "        C⋅R⋅s         \n",
       "──────────────────────\n",
       " 2  2  2              \n",
       "C ⋅R ⋅s  + 3⋅C⋅R⋅s + 1"
      ]
     },
     "execution_count": 11,
     "metadata": {},
     "output_type": "execute_result"
    }
   ],
   "source": [
    "exp6 = exp5.subs([(C_1,C_),(C_2,C_),(R_1,R_),(R_2,R_)])\n",
    "exp6"
   ]
  },
  {
   "cell_type": "code",
   "execution_count": 12,
   "metadata": {},
   "outputs": [
    {
     "data": {
      "image/png": "[encoded data removed]",
      "text/latex": [
       "$$\\frac{s}{s^{2} + 3 s + 1}$$"
      ],
      "text/plain": [
       "     s      \n",
       "────────────\n",
       " 2          \n",
       "s  + 3⋅s + 1"
      ]
     },
     "execution_count": 12,
     "metadata": {},
     "output_type": "execute_result"
    }
   ],
   "source": [
    "exp7 = exp6.subs([(C_,1),(R_,1)])\n",
    "exp7"
   ]
  },
  {
   "cell_type": "code",
   "execution_count": 13,
   "metadata": {},
   "outputs": [],
   "source": [
    "exp7num, exp7den = sym.simplify(exp7).as_numer_denom()  # expressions"
   ]
  },
  {
   "cell_type": "code",
   "execution_count": 14,
   "metadata": {},
   "outputs": [
    {
     "data": {
      "image/png": "[encoded data removed]",
      "text/latex": [
       "$$s$$"
      ],
      "text/plain": [
       "s"
      ]
     },
     "execution_count": 14,
     "metadata": {},
     "output_type": "execute_result"
    }
   ],
   "source": [
    "exp7num"
   ]
  },
  {
   "cell_type": "code",
   "execution_count": 15,
   "metadata": {},
   "outputs": [
    {
     "data": {
      "image/png": "[encoded data removed]",
      "text/latex": [
       "$$s^{2} + 3 s + 1$$"
      ],
      "text/plain": [
       " 2          \n",
       "s  + 3⋅s + 1"
      ]
     },
     "execution_count": 15,
     "metadata": {},
     "output_type": "execute_result"
    }
   ],
   "source": [
    "exp7den"
   ]
  },
  {
   "cell_type": "code",
   "execution_count": 16,
   "metadata": {},
   "outputs": [
    {
     "data": {
      "image/png": "[encoded data removed]",
      "text/latex": [
       "$$\\left ( \\operatorname{Poly}{\\left( s, s, domain=\\mathbb{Z} \\right)}, \\quad \\operatorname{Poly}{\\left( s^{2} + 3 s + 1, s, domain=\\mathbb{Z} \\right)}\\right )$$"
      ],
      "text/plain": [
       "(Poly(s, s, domain='ZZ'), Poly(s**2 + 3*s + 1, s, domain='ZZ'))"
      ]
     },
     "execution_count": 16,
     "metadata": {},
     "output_type": "execute_result"
    }
   ],
   "source": [
    "p_num_den = sym.poly(exp7num, s), sym.poly(exp7den, s)  # polynomials\n",
    "p_num_den"
   ]
  },
  {
   "cell_type": "code",
   "execution_count": 17,
   "metadata": {},
   "outputs": [
    {
     "data": {
      "image/png": "[encoded data removed]",
      "text/latex": [
       "$$\\left [ \\left [ 1, \\quad 0\\right ], \\quad \\left [ 1, \\quad 3, \\quad 1\\right ]\\right ]$$"
      ],
      "text/plain": [
       "[[1, 0], [1, 3, 1]]"
      ]
     },
     "execution_count": 17,
     "metadata": {},
     "output_type": "execute_result"
    }
   ],
   "source": [
    "c_num_den = [sym.expand(p).all_coeffs() for p in p_num_den]\n",
    "c_num_den"
   ]
  },
  {
   "cell_type": "code",
   "execution_count": 18,
   "metadata": {},
   "outputs": [],
   "source": [
    "l_num, l_den = [sym.lambdify((), c)() for c in c_num_den]  # convert to floats"
   ]
  },
  {
   "cell_type": "code",
   "execution_count": 19,
   "metadata": {},
   "outputs": [
    {
     "data": {
      "text/latex": [
       "$$\\frac{s}{s^2 + 3 s + 1}$$"
      ],
      "text/plain": [
       "\n",
       "      s\n",
       "-------------\n",
       "s^2 + 3 s + 1"
      ]
     },
     "execution_count": 19,
     "metadata": {},
     "output_type": "execute_result"
    }
   ],
   "source": [
    "H_tf = control.TransferFunction(l_num,l_den)\n",
    "H_tf"
   ]
  },
  {
   "cell_type": "code",
   "execution_count": 20,
   "metadata": {},
   "outputs": [
    {
     "data": {
      "text/latex": [
       "$$\\frac{s}{s^2 + 3 s + 1}$$"
      ],
      "text/plain": [
       "\n",
       "      s\n",
       "-------------\n",
       "s^2 + 3 s + 1"
      ]
     },
     "execution_count": 20,
     "metadata": {},
     "output_type": "execute_result"
    }
   ],
   "source": [
    "#G_tf = control.TransferFunction([1,0],[1,3,1])\n",
    "#num1 = (1,0)\n",
    "#den1 = (1,3,1)\n",
    "#H_tf = control.TransferFunction(num1,den1)\n",
    "H_tf"
   ]
  },
  {
   "cell_type": "code",
   "execution_count": 21,
   "metadata": {},
   "outputs": [
    {
     "data": {
      "image/png": "[encoded data removed]",
      "text/latex": [
       "$$\\left [ \\left \\{ s : - \\frac{3}{2} - \\frac{\\sqrt{5}}{2}\\right \\}, \\quad \\left \\{ s : - \\frac{3}{2} + \\frac{\\sqrt{5}}{2}\\right \\}\\right ]$$"
      ],
      "text/plain": [
       "⎡⎧     3   √5⎫  ⎧     3   √5⎫⎤\n",
       "⎢⎨s: - ─ - ──⎬, ⎨s: - ─ + ──⎬⎥\n",
       "⎣⎩     2   2 ⎭  ⎩     2   2 ⎭⎦"
      ]
     },
     "execution_count": 21,
     "metadata": {},
     "output_type": "execute_result"
    }
   ],
   "source": [
    "#Poles\n",
    "sym.solve(exp7den,s, dict=True)"
   ]
  },
  {
   "cell_type": "code",
   "execution_count": 22,
   "metadata": {},
   "outputs": [],
   "source": [
    "X_s = sym.Symbol('X(s)')\n",
    "Y_s = sym.Symbol('Y(s)')\n",
    "G_s = sym.Symbol('G(s)')\n",
    "K = sym.Symbol('K')\n",
    "z_1 = sym.Symbol('z1')\n",
    "p_1 = sym.Symbol('p1')\n",
    "p_2 = sym.Symbol('p2')"
   ]
  },
  {
   "cell_type": "code",
   "execution_count": 23,
   "metadata": {},
   "outputs": [
    {
     "data": {
      "image/png": "[encoded data removed]",
      "text/latex": [
       "$$\\frac{G(s)}{G(s) H(s) + 1}$$"
      ],
      "text/plain": [
       "     G(s)    \n",
       "─────────────\n",
       "G(s)⋅H(s) + 1"
      ]
     },
     "execution_count": 23,
     "metadata": {},
     "output_type": "execute_result"
    }
   ],
   "source": [
    "exp8 = G_s/(1+G_s*H_s)\n",
    "exp8"
   ]
  },
  {
   "cell_type": "code",
   "execution_count": 24,
   "metadata": {},
   "outputs": [
    {
     "data": {
      "image/png": "[encoded data removed]",
      "text/latex": [
       "$$\\frac{G(s)}{G(s) H(s) + 1} = \\frac{Y(s)}{X(s)}$$"
      ],
      "text/plain": [
       "     G(s)       Y(s)\n",
       "───────────── = ────\n",
       "G(s)⋅H(s) + 1   X(s)"
      ]
     },
     "execution_count": 24,
     "metadata": {},
     "output_type": "execute_result"
    }
   ],
   "source": [
    "eq8 = sym.Eq(exp8,Y_s/X_s)\n",
    "eq8"
   ]
  },
  {
   "cell_type": "code",
   "execution_count": 25,
   "metadata": {},
   "outputs": [
    {
     "data": {
      "image/png": "[encoded data removed]",
      "text/latex": [
       "$$\\frac{K \\left(s + z_{1}\\right)}{\\left(p_{1} + s\\right) \\left(p_{2} + s\\right)}$$"
      ],
      "text/plain": [
       "    K⋅(s + z₁)   \n",
       "─────────────────\n",
       "(p₁ + s)⋅(p₂ + s)"
      ]
     },
     "execution_count": 25,
     "metadata": {},
     "output_type": "execute_result"
    }
   ],
   "source": [
    "exp9 = K*(s+z_1)/((s+p_1)*(s+p_2))\n",
    "exp9"
   ]
  },
  {
   "cell_type": "code",
   "execution_count": 26,
   "metadata": {},
   "outputs": [
    {
     "data": {
      "image/png": "[encoded data removed]",
      "text/latex": [
       "$$\\frac{K \\left(s + z_{1}\\right)}{\\left(p_{1} + s\\right) \\left(p_{2} + s\\right)} = G(s) H(s)$$"
      ],
      "text/plain": [
       "    K⋅(s + z₁)               \n",
       "───────────────── = G(s)⋅H(s)\n",
       "(p₁ + s)⋅(p₂ + s)            "
      ]
     },
     "execution_count": 26,
     "metadata": {},
     "output_type": "execute_result"
    }
   ],
   "source": [
    "eq9 = sym.Eq(exp9,G_s*H_s)\n",
    "eq9"
   ]
  },
  {
   "cell_type": "code",
   "execution_count": 27,
   "metadata": {},
   "outputs": [
    {
     "data": {
      "image/png": "[encoded data removed]",
      "text/latex": [
       "$$\\frac{K \\left(s + z_{1}\\right)}{\\left(p_{1} + s\\right) \\left(p_{2} + s\\right)} = 1$$"
      ],
      "text/plain": [
       "    K⋅(s + z₁)       \n",
       "───────────────── = 1\n",
       "(p₁ + s)⋅(p₂ + s)    "
      ]
     },
     "execution_count": 27,
     "metadata": {},
     "output_type": "execute_result"
    }
   ],
   "source": [
    "eq10 = sym.Eq(exp9,1)\n",
    "eq10"
   ]
  },
  {
   "cell_type": "code",
   "execution_count": 28,
   "metadata": {},
   "outputs": [
    {
     "data": {
      "image/png": "[encoded data removed]",
      "text/latex": [
       "$$\\frac{K s}{s^{2} + 3 s + 1} = 1$$"
      ],
      "text/plain": [
       "    K⋅s         \n",
       "──────────── = 1\n",
       " 2              \n",
       "s  + 3⋅s + 1    "
      ]
     },
     "execution_count": 28,
     "metadata": {},
     "output_type": "execute_result"
    }
   ],
   "source": [
    "eq11 = sym.Eq(K*exp7,1)\n",
    "eq11"
   ]
  },
  {
   "cell_type": "code",
   "execution_count": 29,
   "metadata": {},
   "outputs": [
    {
     "data": {
      "image/png": "[encoded data removed]",
      "text/latex": [
       "$$s^{2} + s \\left(- K + 3\\right) + 1 = 0$$"
      ],
      "text/plain": [
       " 2                     \n",
       "s  + s⋅(-K + 3) + 1 = 0"
      ]
     },
     "execution_count": 29,
     "metadata": {},
     "output_type": "execute_result"
    }
   ],
   "source": [
    "eq12 = sym.Eq(s**2+(3-K)*s+1,0)\n",
    "eq12"
   ]
  },
  {
   "cell_type": "code",
   "execution_count": 30,
   "metadata": {},
   "outputs": [
    {
     "data": {
      "image/png": "[encoded data removed]",
      "text/latex": [
       "$$s^{2} - s \\left(K - 3\\right) + 1$$"
      ],
      "text/plain": [
       " 2                \n",
       "s  - s⋅(K - 3) + 1"
      ]
     },
     "execution_count": 30,
     "metadata": {},
     "output_type": "execute_result"
    }
   ],
   "source": [
    "sym.simplify(s**2+(3-K)*s+1)"
   ]
  },
  {
   "cell_type": "code",
   "execution_count": 31,
   "metadata": {},
   "outputs": [
    {
     "data": {
      "image/png": "[encoded data removed]",
      "text/latex": [
       "$$\\left [ \\left \\{ s : \\frac{K}{2} - \\frac{\\sqrt{\\left(K - 5\\right) \\left(K - 1\\right)}}{2} - \\frac{3}{2}\\right \\}, \\quad \\left \\{ s : \\frac{K}{2} + \\frac{\\sqrt{\\left(K - 5\\right) \\left(K - 1\\right)}}{2} - \\frac{3}{2}\\right \\}\\right ]$$"
      ],
      "text/plain": [
       "⎡⎧         _________________    ⎫  ⎧         _________________    ⎫⎤\n",
       "⎢⎪   K   ╲╱ (K - 5)⋅(K - 1)    3⎪  ⎪   K   ╲╱ (K - 5)⋅(K - 1)    3⎪⎥\n",
       "⎢⎨s: ─ - ─────────────────── - ─⎬, ⎨s: ─ + ─────────────────── - ─⎬⎥\n",
       "⎢⎪   2            2            2⎪  ⎪   2            2            2⎪⎥\n",
       "⎣⎩                              ⎭  ⎩                              ⎭⎦"
      ]
     },
     "execution_count": 31,
     "metadata": {},
     "output_type": "execute_result"
    }
   ],
   "source": [
    "eq13 = sym.solve(eq11,s, dict=True)\n",
    "eq13"
   ]
  },
  {
   "cell_type": "code",
   "execution_count": 32,
   "metadata": {},
   "outputs": [
    {
     "data": {
      "image/png": "[encoded data removed]",
      "text/latex": [
       "$$\\left [ \\left \\{ s : -2.61686307886022\\right \\}, \\quad \\left \\{ s : -0.382136921139776\\right \\}\\right ]$$"
      ],
      "text/plain": [
       "[{s: -2.61686307886022}, {s: -0.382136921139776}]"
      ]
     },
     "execution_count": 32,
     "metadata": {},
     "output_type": "execute_result"
    }
   ],
   "source": [
    "sym.solve(eq11.subs([(K,0.001)]),s, dict=True)"
   ]
  },
  {
   "cell_type": "code",
   "execution_count": 33,
   "metadata": {},
   "outputs": [
    {
     "data": {
      "image/png": "[encoded data removed]",
      "text/latex": [
       "$$\\left [ \\left \\{ s : -1\\right \\}\\right ]$$"
      ],
      "text/plain": [
       "[{s: -1}]"
      ]
     },
     "execution_count": 33,
     "metadata": {},
     "output_type": "execute_result"
    }
   ],
   "source": [
    "sym.solve(eq11.subs([(K,1)]),s, dict=True)"
   ]
  },
  {
   "cell_type": "code",
   "execution_count": 34,
   "metadata": {},
   "outputs": [
    {
     "data": {
      "image/png": "[encoded data removed]",
      "text/latex": [
       "$$\\left [ \\left \\{ s : - \\frac{1}{2} - \\frac{\\sqrt{3} i}{2}\\right \\}, \\quad \\left \\{ s : - \\frac{1}{2} + \\frac{\\sqrt{3} i}{2}\\right \\}\\right ]$$"
      ],
      "text/plain": [
       "⎡⎧     1   √3⋅ⅈ⎫  ⎧     1   √3⋅ⅈ⎫⎤\n",
       "⎢⎨s: - ─ - ────⎬, ⎨s: - ─ + ────⎬⎥\n",
       "⎣⎩     2    2  ⎭  ⎩     2    2  ⎭⎦"
      ]
     },
     "execution_count": 34,
     "metadata": {},
     "output_type": "execute_result"
    }
   ],
   "source": [
    "sym.solve(eq11.subs([(K,2)]),s, dict=True)"
   ]
  },
  {
   "cell_type": "code",
   "execution_count": 35,
   "metadata": {},
   "outputs": [
    {
     "data": {
      "image/png": "[encoded data removed]",
      "text/latex": [
       "$$\\left [ \\left \\{ s : - i\\right \\}, \\quad \\left \\{ s : i\\right \\}\\right ]$$"
      ],
      "text/plain": [
       "[{s: -ⅈ}, {s: ⅈ}]"
      ]
     },
     "execution_count": 35,
     "metadata": {},
     "output_type": "execute_result"
    }
   ],
   "source": [
    "sym.solve(eq11.subs([(K,3)]),s, dict=True)"
   ]
  },
  {
   "cell_type": "code",
   "execution_count": 36,
   "metadata": {},
   "outputs": [
    {
     "data": {
      "image/png": "[encoded data removed]",
      "text/latex": [
       "$$\\left [ \\left \\{ s : \\frac{1}{2} - \\frac{\\sqrt{3} i}{2}\\right \\}, \\quad \\left \\{ s : \\frac{1}{2} + \\frac{\\sqrt{3} i}{2}\\right \\}\\right ]$$"
      ],
      "text/plain": [
       "⎡⎧   1   √3⋅ⅈ⎫  ⎧   1   √3⋅ⅈ⎫⎤\n",
       "⎢⎨s: ─ - ────⎬, ⎨s: ─ + ────⎬⎥\n",
       "⎣⎩   2    2  ⎭  ⎩   2    2  ⎭⎦"
      ]
     },
     "execution_count": 36,
     "metadata": {},
     "output_type": "execute_result"
    }
   ],
   "source": [
    "sym.solve(eq11.subs([(K,4)]),s, dict=True)"
   ]
  },
  {
   "cell_type": "code",
   "execution_count": 37,
   "metadata": {},
   "outputs": [
    {
     "data": {
      "image/png": "[encoded data removed]",
      "text/latex": [
       "$$\\left [ \\left \\{ s : 1\\right \\}\\right ]$$"
      ],
      "text/plain": [
       "[{s: 1}]"
      ]
     },
     "execution_count": 37,
     "metadata": {},
     "output_type": "execute_result"
    }
   ],
   "source": [
    "sym.solve(eq11.subs([(K,5)]),s, dict=True)"
   ]
  },
  {
   "cell_type": "code",
   "execution_count": 38,
   "metadata": {},
   "outputs": [
    {
     "data": {
      "image/png": "[encoded data removed]",
      "text/plain": [
       "<Figure size 432x288 with 1 Axes>"
      ]
     },
     "metadata": {
      "needs_background": "light"
     },
     "output_type": "display_data"
    }
   ],
   "source": [
    "Out_rl = control.root_locus(sys=(-H_tf), xlim=(-3,3), ylim=(-1.5,1.5))"
   ]
  }
 ],
 "metadata": {
  "kernelspec": {
   "display_name": "Python 3",
   "language": "python",
   "name": "python3"
  },
  "language_info": {
   "codemirror_mode": {
    "name": "ipython",
    "version": 3
   },
   "file_extension": ".py",
   "mimetype": "text/x-python",
   "name": "python",
   "nbconvert_exporter": "python",
   "pygments_lexer": "ipython3",
   "version": "3.7.3"
  }
 },
 "nbformat": 4,
 "nbformat_minor": 1
}
